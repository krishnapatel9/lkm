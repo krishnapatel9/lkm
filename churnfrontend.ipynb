{
 "cells": [
  {
   "cell_type": "code",
   "execution_count": 1,
   "id": "ef0bcb66-0c16-450d-b27e-76270528648e",
   "metadata": {},
   "outputs": [
    {
     "data": {
      "application/vnd.jupyter.widget-view+json": {
       "model_id": "e94447d7b248440aacaee4f06661dedf",
       "version_major": 2,
       "version_minor": 0
      },
      "text/plain": [
       "Dropdown(description='Gender:', options=('Male', 'Female'), value='Male')"
      ]
     },
     "metadata": {},
     "output_type": "display_data"
    },
    {
     "data": {
      "application/vnd.jupyter.widget-view+json": {
       "model_id": "e7c5d7564afc41d3b0f57f9755b5d3db",
       "version_major": 2,
       "version_minor": 0
      },
      "text/plain": [
       "IntSlider(value=0, description='Tenure (months):', max=72)"
      ]
     },
     "metadata": {},
     "output_type": "display_data"
    },
    {
     "data": {
      "application/vnd.jupyter.widget-view+json": {
       "model_id": "e0e4676719c54b5da5c8d539df39fd59",
       "version_major": 2,
       "version_minor": 0
      },
      "text/plain": [
       "FloatSlider(value=0.0, description='Monthly Charges:', max=200.0, step=1.0)"
      ]
     },
     "metadata": {},
     "output_type": "display_data"
    },
    {
     "data": {
      "application/vnd.jupyter.widget-view+json": {
       "model_id": "176c082bdca140f99260f476a3ab3eef",
       "version_major": 2,
       "version_minor": 0
      },
      "text/plain": [
       "Dropdown(description='Contract:', options=('Month-to-month', 'One year', 'Two year'), value='Month-to-month')"
      ]
     },
     "metadata": {},
     "output_type": "display_data"
    }
   ],
   "source": [
    "import ipywidgets as widgets\n",
    "from IPython.display import display\n",
    "\n",
    "# Example widgets\n",
    "gender = widgets.Dropdown(options=[\"Male\", \"Female\"], description=\"Gender:\")\n",
    "tenure = widgets.IntSlider(min=0, max=72, step=1, description=\"Tenure (months):\")\n",
    "monthly_charges = widgets.FloatSlider(min=0, max=200, step=1, description=\"Monthly Charges:\")\n",
    "contract = widgets.Dropdown(options=[\"Month-to-month\", \"One year\", \"Two year\"], description=\"Contract:\")\n",
    "\n",
    "# Display widgets\n",
    "display(gender, tenure, monthly_charges, contract)\n"
   ]
  },
  {
   "cell_type": "code",
   "execution_count": 3,
   "id": "5d08472c-8fd9-4cfa-90a4-d2109b3b5148",
   "metadata": {},
   "outputs": [
    {
     "data": {
      "application/vnd.jupyter.widget-view+json": {
       "model_id": "013b6c860dcd4af9b4662eee04050bb1",
       "version_major": 2,
       "version_minor": 0
      },
      "text/plain": [
       "Button(button_style='success', description='Predict Churn', style=ButtonStyle())"
      ]
     },
     "metadata": {},
     "output_type": "display_data"
    },
    {
     "data": {
      "application/vnd.jupyter.widget-view+json": {
       "model_id": "d25cabd9fa304bb4ac9da8eb10779614",
       "version_major": 2,
       "version_minor": 0
      },
      "text/plain": [
       "Output()"
      ]
     },
     "metadata": {},
     "output_type": "display_data"
    }
   ],
   "source": [
    "from ipywidgets import Button, Output\n",
    "\n",
    "button = Button(description=\"Predict Churn\", button_style=\"success\")\n",
    "output = Output()\n",
    "\n",
    "def on_button_click(b):\n",
    "    with output:\n",
    "        output.clear_output()\n",
    "        \n",
    "        # Example: construct input manually\n",
    "        sample_input = {\n",
    "            \"gender\": gender.value,\n",
    "            \"tenure\": tenure.value,\n",
    "            \"MonthlyCharges\": monthly_charges.value,\n",
    "            \"Contract\": contract.value\n",
    "        }\n",
    "        \n",
    "        # Convert into DataFrame (match training preprocessing)\n",
    "        sample_df = pd.DataFrame([sample_input])\n",
    "        sample_df = pd.get_dummies(sample_df)  # handle categorical\n",
    "        \n",
    "        # Align with training columns\n",
    "        sample_df = sample_df.reindex(columns=X.columns, fill_value=0)\n",
    "        \n",
    "        # Predict\n",
    "        pred = rf.predict(sample_df)[0]\n",
    "        prob = rf.predict_proba(sample_df)[0][1]\n",
    "        \n",
    "        print(f\"Prediction: {'Churn' if pred == 1 else 'Not Churn'} (Prob: {prob:.2f})\")\n",
    "\n",
    "button.on_click(on_button_click)\n",
    "\n",
    "display(button, output)\n"
   ]
  },
  {
   "cell_type": "code",
   "execution_count": 11,
   "id": "d495c96a-e28d-4b19-beb8-640943e9fb89",
   "metadata": {},
   "outputs": [
    {
     "name": "stdout",
     "output_type": "stream",
     "text": [
      "Data loaded successfully!\n",
      "Columns: ['CustomerID', 'Age', 'Gender', 'Tenure', 'Usage Frequency', 'Support Calls', 'Payment Delay', 'Subscription Type', 'Contract Length', 'Total Spend', 'Last Interaction', 'Churn']\n"
     ]
    }
   ],
   "source": [
    "import pandas as pd\n",
    "import seaborn as sns\n",
    "import matplotlib.pyplot as plt\n",
    "import ipywidgets as widgets\n",
    "from IPython.display import display\n",
    "\n",
    "# Load the dataset\n",
    "data = pd.read_csv(r\"C:\\Users\\ASUS\\OneDrive\\Desktop\\customerchurn\\customer_churn_dataset-testing-master.csv\")\n",
    "print(\"Data loaded successfully!\")\n",
    "print(f\"Columns: {list(data.columns)}\")\n"
   ]
  },
  {
   "cell_type": "code",
   "execution_count": 14,
   "id": "162ff86d-671a-420b-a509-309f13686a93",
   "metadata": {},
   "outputs": [
    {
     "data": {
      "application/vnd.jupyter.widget-view+json": {
       "model_id": "07d8938cbcb8460d9532a8d2f2cb41a5",
       "version_major": 2,
       "version_minor": 0
      },
      "text/plain": [
       "interactive(children=(Dropdown(description='churn_col', options=('CustomerID', 'Age', 'Gender', 'Tenure', 'Usa…"
      ]
     },
     "metadata": {},
     "output_type": "display_data"
    },
    {
     "data": {
      "text/plain": [
       "<function __main__.show_plot(churn_col='MonthlyCharges')>"
      ]
     },
     "execution_count": 14,
     "metadata": {},
     "output_type": "execute_result"
    }
   ],
   "source": [
    "def show_plot(churn_col=\"MonthlyCharges\"):\n",
    "    # Fixed the syntax errors: x=churn_col instead of xschurn_col\n",
    "    plt.figure(figsize=(10, 6))\n",
    "    sns.histplot(data, x=churn_col, hue=\"Churn\", multiple=\"stack\")\n",
    "    plt.title(f\"Distribution of {churn_col} by Churn Status\")\n",
    "    plt.show()\n",
    "\n",
    "# Use the actual column names from your data, not data.Columns\n",
    "widgets.interact(show_plot, churn_col=data.columns)"
   ]
  },
  {
   "cell_type": "code",
   "execution_count": null,
   "id": "4b79f157-12ee-4dcc-931c-bc54950528f6",
   "metadata": {},
   "outputs": [],
   "source": []
  }
 ],
 "metadata": {
  "kernelspec": {
   "display_name": "Python 3 (ipykernel)",
   "language": "python",
   "name": "python3"
  },
  "language_info": {
   "codemirror_mode": {
    "name": "ipython",
    "version": 3
   },
   "file_extension": ".py",
   "mimetype": "text/x-python",
   "name": "python",
   "nbconvert_exporter": "python",
   "pygments_lexer": "ipython3",
   "version": "3.12.4"
  }
 },
 "nbformat": 4,
 "nbformat_minor": 5
}
